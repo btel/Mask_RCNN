{
 "cells": [
  {
   "cell_type": "code",
   "execution_count": 1,
   "metadata": {},
   "outputs": [
    {
     "name": "stderr",
     "output_type": "stream",
     "text": [
      "/home/bartosz/.pyenv/versions/3.7.4/envs/open-images/lib/python3.7/site-packages/tensorflow/python/framework/dtypes.py:516: FutureWarning: Passing (type, 1) or '1type' as a synonym of type is deprecated; in a future version of numpy, it will be understood as (type, (1,)) / '(1,)type'.\n",
      "  _np_qint8 = np.dtype([(\"qint8\", np.int8, 1)])\n",
      "/home/bartosz/.pyenv/versions/3.7.4/envs/open-images/lib/python3.7/site-packages/tensorflow/python/framework/dtypes.py:517: FutureWarning: Passing (type, 1) or '1type' as a synonym of type is deprecated; in a future version of numpy, it will be understood as (type, (1,)) / '(1,)type'.\n",
      "  _np_quint8 = np.dtype([(\"quint8\", np.uint8, 1)])\n",
      "/home/bartosz/.pyenv/versions/3.7.4/envs/open-images/lib/python3.7/site-packages/tensorflow/python/framework/dtypes.py:518: FutureWarning: Passing (type, 1) or '1type' as a synonym of type is deprecated; in a future version of numpy, it will be understood as (type, (1,)) / '(1,)type'.\n",
      "  _np_qint16 = np.dtype([(\"qint16\", np.int16, 1)])\n",
      "/home/bartosz/.pyenv/versions/3.7.4/envs/open-images/lib/python3.7/site-packages/tensorflow/python/framework/dtypes.py:519: FutureWarning: Passing (type, 1) or '1type' as a synonym of type is deprecated; in a future version of numpy, it will be understood as (type, (1,)) / '(1,)type'.\n",
      "  _np_quint16 = np.dtype([(\"quint16\", np.uint16, 1)])\n",
      "/home/bartosz/.pyenv/versions/3.7.4/envs/open-images/lib/python3.7/site-packages/tensorflow/python/framework/dtypes.py:520: FutureWarning: Passing (type, 1) or '1type' as a synonym of type is deprecated; in a future version of numpy, it will be understood as (type, (1,)) / '(1,)type'.\n",
      "  _np_qint32 = np.dtype([(\"qint32\", np.int32, 1)])\n",
      "/home/bartosz/.pyenv/versions/3.7.4/envs/open-images/lib/python3.7/site-packages/tensorflow/python/framework/dtypes.py:525: FutureWarning: Passing (type, 1) or '1type' as a synonym of type is deprecated; in a future version of numpy, it will be understood as (type, (1,)) / '(1,)type'.\n",
      "  np_resource = np.dtype([(\"resource\", np.ubyte, 1)])\n",
      "/home/bartosz/.pyenv/versions/3.7.4/envs/open-images/lib/python3.7/site-packages/tensorboard/compat/tensorflow_stub/dtypes.py:541: FutureWarning: Passing (type, 1) or '1type' as a synonym of type is deprecated; in a future version of numpy, it will be understood as (type, (1,)) / '(1,)type'.\n",
      "  _np_qint8 = np.dtype([(\"qint8\", np.int8, 1)])\n",
      "/home/bartosz/.pyenv/versions/3.7.4/envs/open-images/lib/python3.7/site-packages/tensorboard/compat/tensorflow_stub/dtypes.py:542: FutureWarning: Passing (type, 1) or '1type' as a synonym of type is deprecated; in a future version of numpy, it will be understood as (type, (1,)) / '(1,)type'.\n",
      "  _np_quint8 = np.dtype([(\"quint8\", np.uint8, 1)])\n",
      "/home/bartosz/.pyenv/versions/3.7.4/envs/open-images/lib/python3.7/site-packages/tensorboard/compat/tensorflow_stub/dtypes.py:543: FutureWarning: Passing (type, 1) or '1type' as a synonym of type is deprecated; in a future version of numpy, it will be understood as (type, (1,)) / '(1,)type'.\n",
      "  _np_qint16 = np.dtype([(\"qint16\", np.int16, 1)])\n",
      "/home/bartosz/.pyenv/versions/3.7.4/envs/open-images/lib/python3.7/site-packages/tensorboard/compat/tensorflow_stub/dtypes.py:544: FutureWarning: Passing (type, 1) or '1type' as a synonym of type is deprecated; in a future version of numpy, it will be understood as (type, (1,)) / '(1,)type'.\n",
      "  _np_quint16 = np.dtype([(\"quint16\", np.uint16, 1)])\n",
      "/home/bartosz/.pyenv/versions/3.7.4/envs/open-images/lib/python3.7/site-packages/tensorboard/compat/tensorflow_stub/dtypes.py:545: FutureWarning: Passing (type, 1) or '1type' as a synonym of type is deprecated; in a future version of numpy, it will be understood as (type, (1,)) / '(1,)type'.\n",
      "  _np_qint32 = np.dtype([(\"qint32\", np.int32, 1)])\n",
      "/home/bartosz/.pyenv/versions/3.7.4/envs/open-images/lib/python3.7/site-packages/tensorboard/compat/tensorflow_stub/dtypes.py:550: FutureWarning: Passing (type, 1) or '1type' as a synonym of type is deprecated; in a future version of numpy, it will be understood as (type, (1,)) / '(1,)type'.\n",
      "  np_resource = np.dtype([(\"resource\", np.ubyte, 1)])\n",
      "Using TensorFlow backend.\n"
     ]
    }
   ],
   "source": [
    "import os\n",
    "import sys\n",
    "import numpy as np\n",
    "\n",
    "\n",
    "# Root directory of the project\n",
    "ROOT_DIR = os.path.abspath(\"../../\")\n",
    "# Directory to save logs and trained model\n",
    "MODEL_DIR = os.path.join(ROOT_DIR, \"logs\")\n",
    "\n",
    "# Import Mask RCNN\n",
    "sys.path.append(ROOT_DIR)  # To find local version of the library\n",
    "from mrcnn.config import Config\n",
    "from mrcnn import utils\n",
    "import mrcnn.model as modellib\n",
    "from openimages import OpenImageDataset\n",
    "from openimages import OpenImagesConfig\n",
    "import openimages as oim\n",
    "from tqdm import tqdm"
   ]
  },
  {
   "cell_type": "code",
   "execution_count": 2,
   "metadata": {},
   "outputs": [],
   "source": [
    "class InferenceConfig(OpenImagesConfig):\n",
    "    \"\"\"\n",
    "    \"\"\"\n",
    "    # Give the configuration a recognizable name\n",
    "    NAME = \"openimages\"\n",
    "\n",
    "    # Train on 1 GPU and 8 images per GPU. We can put multiple images on each\n",
    "    # GPU because the images are small. Batch size is 8 (GPUs * images/GPU).\n",
    "    GPU_COUNT = 1\n",
    "    IMAGES_PER_GPU = 1\n",
    "    \n",
    "inference_config = InferenceConfig()"
   ]
  },
  {
   "cell_type": "code",
   "execution_count": 4,
   "metadata": {},
   "outputs": [
    {
     "name": "stdout",
     "output_type": "stream",
     "text": [
      "Loading weights from  /home/bartosz/open-images/Mask_RCNN/logs/openimages20190926T0931/mask_rcnn_openimages_0018.h5\n",
      "Re-starting from epoch 18\n"
     ]
    }
   ],
   "source": [
    "# Recreate the model in inference mode\n",
    "DEVICE = \"/gpu:0\"  # /cpu:0 or /gpu:0\n",
    "\n",
    "import tensorflow as tf\n",
    "\n",
    "with tf.device(DEVICE):\n",
    "    model = modellib.MaskRCNN(mode=\"inference\", \n",
    "                              config=inference_config,\n",
    "                              model_dir=MODEL_DIR)\n",
    "  \n",
    "# Get path to saved weights\n",
    "# Either set a specific path or find last trained weights\n",
    "# model_path = os.path.join(ROOT_DIR, \".h5 file name here\")\n",
    "#model_path = model.find_last()\n",
    "model_path = os.path.join(ROOT_DIR, 'logs/openimages20190926T0931/mask_rcnn_openimages_0018.h5')\n",
    "\n",
    "# Load trained weights\n",
    "print(\"Loading weights from \", model_path)\n",
    "model.load_weights(model_path, by_name=True)"
   ]
  },
  {
   "cell_type": "code",
   "execution_count": 5,
   "metadata": {},
   "outputs": [],
   "source": [
    "PATH = os.path.abspath(os.path.join(ROOT_DIR, '../data/'))\n",
    "\n",
    "# Validation dataset\n",
    "dataset = OpenImageDataset()\n",
    "dataset.load_dataset(PATH, 'kaggle-test')\n",
    "dataset.prepare()"
   ]
  },
  {
   "cell_type": "code",
   "execution_count": 25,
   "metadata": {},
   "outputs": [],
   "source": [
    "import datetime\n",
    "now = datetime.datetime.utcnow()\n",
    "datestr = now.strftime(\"%Y%m%dT%H%M\")\n",
    "submission_file = \"submission-{}.csv\".format(datestr)"
   ]
  },
  {
   "cell_type": "code",
   "execution_count": 26,
   "metadata": {},
   "outputs": [
    {
     "name": "stderr",
     "output_type": "stream",
     "text": [
      "\n",
      "  0%|          | 0/10 [00:00<?, ?it/s]\u001b[A\n",
      " 10%|█         | 1/10 [00:01<00:09,  1.05s/it]\u001b[A\n",
      " 20%|██        | 2/10 [00:01<00:07,  1.02it/s]\u001b[A\n",
      " 30%|███       | 3/10 [00:02<00:06,  1.07it/s]\u001b[A\n",
      " 40%|████      | 4/10 [00:03<00:05,  1.10it/s]\u001b[A\n",
      " 50%|█████     | 5/10 [00:04<00:04,  1.12it/s]\u001b[A\n",
      " 60%|██████    | 6/10 [00:05<00:03,  1.10it/s]\u001b[A\n",
      " 70%|███████   | 7/10 [00:06<00:02,  1.12it/s]\u001b[A\n",
      " 80%|████████  | 8/10 [00:07<00:01,  1.14it/s]\u001b[A\n",
      " 90%|█████████ | 9/10 [00:07<00:00,  1.13it/s]\u001b[A\n",
      "100%|██████████| 10/10 [00:08<00:00,  1.12it/s]\u001b[A\n"
     ]
    }
   ],
   "source": [
    "\n",
    "header = \"ImageID,ImageWidth,ImageHeight,PredictionString\"\n",
    "n_rows = 0\n",
    "with open(submission_file, 'w') as fid:\n",
    "    fid.write(header+'\\n')\n",
    "    \n",
    "    for image_id in tqdm(dataset.image_ids[:10]):\n",
    "\n",
    "        original_image = dataset.load_image(image_id)\n",
    "\n",
    "        results = model.detect([original_image], verbose=0)\n",
    "\n",
    "        r = results[0]\n",
    "        n_detections = r['masks'].shape[2]\n",
    "\n",
    "        detections = []\n",
    "        source_image = dataset.image_info[image_id]['id']\n",
    "        image_size = dataset.image_info[image_id]['size']\n",
    "\n",
    "        for detection_index in range(n_detections):\n",
    "\n",
    "            mask = r['masks'][:, :, detection_index]\n",
    "            score = r['scores'][detection_index]\n",
    "            class_id = r['class_ids'][detection_index]\n",
    "            bbox = r['rois'][detection_index, :]\n",
    "\n",
    "            label = dataset.get_source_class_id(class_id, 'openimages')\n",
    "\n",
    "\n",
    "            #true_mask = oim.unmold_mask(mask, bbox, image_size)\n",
    "            true_mask = mask\n",
    "\n",
    "            rle_mask = oim.encode_binary_mask(true_mask)\n",
    "\n",
    "            detections.extend([label, str(score), rle_mask.decode('ascii')])\n",
    "\n",
    "        detections_str = \" \".join(detections)\n",
    "        row = \",\".join([source_image, str(image_size[0]), str(image_size[1]), detections_str])\n",
    "        \n",
    "        fid.write(row+'\\n')\n",
    "        n_rows += 1\n"
   ]
  },
  {
   "cell_type": "code",
   "execution_count": 27,
   "metadata": {},
   "outputs": [],
   "source": [
    "# complete with empty detections if necessary"
   ]
  },
  {
   "cell_type": "code",
   "execution_count": 29,
   "metadata": {},
   "outputs": [],
   "source": [
    "if n_rows < len(dataset.image_ids):\n",
    "    with open(submission_file, 'a') as fid:\n",
    "        for image_info in dataset.image_info[n_rows:]:\n",
    "            fid.write(\",\".join([image_info['id'], '-1', '-1', '\\n']))"
   ]
  },
  {
   "cell_type": "code",
   "execution_count": null,
   "metadata": {},
   "outputs": [],
   "source": []
  }
 ],
 "metadata": {
  "kernelspec": {
   "display_name": "Python 3",
   "language": "python",
   "name": "python3"
  },
  "language_info": {
   "codemirror_mode": {
    "name": "ipython",
    "version": 3
   },
   "file_extension": ".py",
   "mimetype": "text/x-python",
   "name": "python",
   "nbconvert_exporter": "python",
   "pygments_lexer": "ipython3",
   "version": "3.7.4"
  }
 },
 "nbformat": 4,
 "nbformat_minor": 4
}
